{
 "cells": [
  {
   "cell_type": "code",
   "execution_count": 5,
   "id": "116caea1",
   "metadata": {},
   "outputs": [
    {
     "name": "stdout",
     "output_type": "stream",
     "text": [
      "DOB: 09/7/2022\n"
     ]
    }
   ],
   "source": [
    "import re\n",
    "text = \"my name is kishored , my is dob 10/05/1998 ,  I joined in the sri chaitanya college at 09/7/2022, I joined in the sri chaitanya college at 09/7/2022 I joined in the sri chaitanya college at 09/7/2022 I joined in the sri chaitanya college at 09/7/2022\"\n",
    "dob_regex = r'\\b\\d{1,2}/\\d{1,2}/\\d{4}\\b' # regular expression pattern to match DOB in format dd/mm/yyyy\n",
    "dob_matches = re.findall(dob_regex, text)\n",
    "if dob_matches:\n",
    "    dob = dob_matches[1]\n",
    "    print(\"DOB:\", dob)   \n",
    "else: \n",
    "    print(\"DOB not found in text\")"
   ]
  },
  {
   "cell_type": "code",
   "execution_count": 3,
   "id": "bf19e771",
   "metadata": {},
   "outputs": [
    {
     "name": "stdout",
     "output_type": "stream",
     "text": [
      "28\n"
     ]
    }
   ],
   "source": [
    "index = text.find(\"dob\")\n",
    "print(index)"
   ]
  },
  {
   "cell_type": "code",
   "execution_count": 4,
   "id": "33d53777",
   "metadata": {},
   "outputs": [],
   "source": [
    "#!python -m spacy download en_core_web_sm"
   ]
  },
  {
   "cell_type": "code",
   "execution_count": 6,
   "id": "fb06d12f",
   "metadata": {},
   "outputs": [],
   "source": [
    "import spacy\n",
    "nlp = spacy.load(\"en_core_web_sm\")\n",
    "\n",
    "\n",
    "text = '''my name is kishored , my DOB is 10/05/1998 ,  I joined in the sri chaitanya college at DOB 09/7/2022, I joined in the sri chaitanya college at 09/7/2022 I joined in the sri chaitanya college at 09/7/2022\n",
    "I joined in the sri chaitanya college at 09/7/2022 my DOB is 10/05/1998'''\n",
    "\n",
    "# mylist=[]\n",
    "# doc = nlp(text)\n",
    "# for ent in doc.ents:\n",
    "#     mylist.append(ent)\n",
    "# for ent in doc.ents:\n",
    "#     if ent.label_ == \"DATE\":\n",
    "#         print(ent)\n",
    "#         print(\"DOB:\", ent.text)\n",
    "#         break\n",
    "\n",
    "# if \"DOB\" not in locals():\n",
    "#     print(\"DOB not found in text\")"
   ]
  },
  {
   "cell_type": "code",
   "execution_count": 8,
   "id": "f5555a90",
   "metadata": {},
   "outputs": [],
   "source": [
    "import spacy\n"
   ]
  },
  {
   "cell_type": "code",
   "execution_count": 28,
   "id": "52336336",
   "metadata": {},
   "outputs": [
    {
     "name": "stdout",
     "output_type": "stream",
     "text": [
      "[DOB, 10/05/1998, DOB 09/7/2022, 09/7/2022, DOB, 10/05/1998]\n"
     ]
    }
   ],
   "source": [
    "print(mylist)"
   ]
  },
  {
   "cell_type": "code",
   "execution_count": 20,
   "id": "5eb6036b",
   "metadata": {},
   "outputs": [
    {
     "name": "stdout",
     "output_type": "stream",
     "text": [
      "[[225 224 226 ... 186 186 184]\n",
      " [230 228 228 ... 186 186 185]\n",
      " [237 233 232 ... 186 186 184]\n",
      " ...\n",
      " [ 47  48  45 ...  91  86  80]\n",
      " [ 46  43  39 ...  89  84  78]\n",
      " [ 45  37  33 ...  87  83  76]]\n"
     ]
    }
   ],
   "source": [
    "import cv2\n",
    "\n",
    "# Load the image\n",
    "img = cv2.imread(\"./1.jpeg\")\n",
    "\n",
    "# Load the pre-trained Haar Cascade classifier for face detection\n",
    "face_cascade = cv2.CascadeClassifier(\"haarcascade_frontalface_default.xml\")\n",
    "\n",
    "# Convert the image to grayscale\n",
    "gray = cv2.cvtColor(img, cv2.COLOR_BGR2GRAY)\n",
    "\n",
    "# # Detect faces in the image\n",
    "# faces = face_cascade.detectMultiScale(gray, scaleFactor=1.3, minNeighbors=5)\n",
    "\n",
    "\n",
    "# # Blur the faces\n",
    "# for (x, y, w, h) in faces:\n",
    "#     # Crop the face region\n",
    "#     face_roi = img[y:y+h, x:x+w]\n",
    "\n",
    "#     # Apply a Gaussian blur to the face region\n",
    "#     blurred_face = cv2.GaussianBlur(face_roi, (25, 25), 0)\n",
    "\n",
    "#     # Replace the original face region with the blurred face region\n",
    "#     img[y:y+h, x:x+w] = blurred_face\n",
    "\n",
    "# # Save the blurred image\n",
    "# cv2.imwrite(\"blurred_image.jpg\", img)\n",
    "print(gray)"
   ]
  },
  {
   "cell_type": "code",
   "execution_count": null,
   "id": "e56f31bc",
   "metadata": {},
   "outputs": [],
   "source": []
  }
 ],
 "metadata": {
  "kernelspec": {
   "display_name": "Python 3 (ipykernel)",
   "language": "python",
   "name": "python3"
  },
  "language_info": {
   "codemirror_mode": {
    "name": "ipython",
    "version": 3
   },
   "file_extension": ".py",
   "mimetype": "text/x-python",
   "name": "python",
   "nbconvert_exporter": "python",
   "pygments_lexer": "ipython3",
   "version": "3.8.6"
  }
 },
 "nbformat": 4,
 "nbformat_minor": 5
}
